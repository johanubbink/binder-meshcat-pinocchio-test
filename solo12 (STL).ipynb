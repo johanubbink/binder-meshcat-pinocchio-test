{
 "cells": [
  {
   "cell_type": "code",
   "execution_count": null,
   "id": "a6afc958",
   "metadata": {},
   "outputs": [],
   "source": [
    "from example_robot_data import load\n",
    "from meshcat_jupyter import PinocchioJupyterVisualizer\n",
    "\n",
    "robot = load('solo12')\n",
    "viz = PinocchioJupyterVisualizer(robot.model, robot.collision_model, robot.visual_model)"
   ]
  },
  {
   "cell_type": "code",
   "execution_count": null,
   "id": "9b580897",
   "metadata": {},
   "outputs": [],
   "source": [
    "viz.loadViewerModel()\n",
    "viz.display(robot.q0)"
   ]
  },
  {
   "cell_type": "code",
   "execution_count": null,
   "id": "e5a2c566",
   "metadata": {},
   "outputs": [],
   "source": []
  }
 ],
 "metadata": {
  "kernelspec": {
   "display_name": "Python 3 (ipykernel)",
   "language": "python",
   "name": "python3"
  },
  "language_info": {
   "codemirror_mode": {
    "name": "ipython",
    "version": 3
   },
   "file_extension": ".py",
   "mimetype": "text/x-python",
   "name": "python",
   "nbconvert_exporter": "python",
   "pygments_lexer": "ipython3",
   "version": "3.9.6"
  }
 },
 "nbformat": 4,
 "nbformat_minor": 5
}
