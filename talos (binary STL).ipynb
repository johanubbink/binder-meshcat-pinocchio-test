{
 "cells": [
  {
   "cell_type": "code",
   "execution_count": null,
   "id": "a6afc958",
   "metadata": {},
   "outputs": [],
   "source": [
    "from math import pi\n",
    "\n",
    "from ipywidgets import interact\n",
    "from example_robot_data import load\n",
    "\n",
    "from meshcat_jupyter import PinocchioJupyterVisualizer\n",
    "\n",
    "robot = load('talos')\n",
    "viz = PinocchioJupyterVisualizer(robot.model, robot.collision_model, robot.visual_model)"
   ]
  },
  {
   "cell_type": "code",
   "execution_count": null,
   "id": "9b580897",
   "metadata": {},
   "outputs": [],
   "source": [
    "viz.loadViewerModel()\n",
    "viz.display(robot.q0)"
   ]
  },
  {
   "cell_type": "code",
   "execution_count": null,
   "id": "2e74e7be",
   "metadata": {},
   "outputs": [],
   "source": [
    "@interact(shoulder=(-0.5, 0.5, 0.01))\n",
    "def say_hi(shoulder=0):\n",
    "    robot.q0[30] = pi - shoulder\n",
    "    viz.display(robot.q0)"
   ]
  },
  {
   "cell_type": "code",
   "execution_count": null,
   "id": "f6928e2a",
   "metadata": {},
   "outputs": [],
   "source": []
  }
 ],
 "metadata": {
  "kernelspec": {
   "display_name": "Python 3 (ipykernel)",
   "language": "python",
   "name": "python3"
  },
  "language_info": {
   "codemirror_mode": {
    "name": "ipython",
    "version": 3
   },
   "file_extension": ".py",
   "mimetype": "text/x-python",
   "name": "python",
   "nbconvert_exporter": "python",
   "pygments_lexer": "ipython3",
   "version": "3.9.6"
  }
 },
 "nbformat": 4,
 "nbformat_minor": 5
}
